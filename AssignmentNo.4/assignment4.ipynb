{
 "cells": [
  {
   "cell_type": "code",
   "execution_count": 2,
   "id": "0dd127dc",
   "metadata": {},
   "outputs": [
    {
     "name": "stdout",
     "output_type": "stream",
     "text": [
      "Collecting scikit-learn\n",
      "  Downloading scikit_learn-1.7.1-cp310-cp310-win_amd64.whl.metadata (11 kB)\n",
      "Requirement already satisfied: numpy>=1.22.0 in e:\\machine learning\\venv\\lib\\site-packages (from scikit-learn) (2.1.3)\n",
      "Requirement already satisfied: scipy>=1.8.0 in e:\\machine learning\\venv\\lib\\site-packages (from scikit-learn) (1.15.3)\n",
      "Collecting joblib>=1.2.0 (from scikit-learn)\n",
      "  Downloading joblib-1.5.2-py3-none-any.whl.metadata (5.6 kB)\n",
      "Collecting threadpoolctl>=3.1.0 (from scikit-learn)\n",
      "  Using cached threadpoolctl-3.6.0-py3-none-any.whl.metadata (13 kB)\n",
      "Downloading scikit_learn-1.7.1-cp310-cp310-win_amd64.whl (8.9 MB)\n",
      "   ---------------------------------------- 0.0/8.9 MB ? eta -:--:--\n",
      "   ---------------------------------------- 0.0/8.9 MB ? eta -:--:--\n",
      "   - -------------------------------------- 0.3/8.9 MB ? eta -:--:--\n",
      "   -- ------------------------------------- 0.5/8.9 MB 1.2 MB/s eta 0:00:07\n",
      "   --- ------------------------------------ 0.8/8.9 MB 1.2 MB/s eta 0:00:07\n",
      "   ---- ----------------------------------- 1.0/8.9 MB 1.3 MB/s eta 0:00:07\n",
      "   ------- -------------------------------- 1.6/8.9 MB 1.4 MB/s eta 0:00:06\n",
      "   -------- ------------------------------- 1.8/8.9 MB 1.5 MB/s eta 0:00:05\n",
      "   ---------- ----------------------------- 2.4/8.9 MB 1.5 MB/s eta 0:00:05\n",
      "   ------------ --------------------------- 2.9/8.9 MB 1.7 MB/s eta 0:00:04\n",
      "   ---------------- ----------------------- 3.7/8.9 MB 1.9 MB/s eta 0:00:03\n",
      "   ---------------------- ----------------- 5.0/8.9 MB 2.3 MB/s eta 0:00:02\n",
      "   ----------------------------- ---------- 6.6/8.9 MB 2.8 MB/s eta 0:00:01\n",
      "   ------------------------------------- -- 8.4/8.9 MB 3.3 MB/s eta 0:00:01\n",
      "   ---------------------------------------- 8.9/8.9 MB 3.4 MB/s eta 0:00:00\n",
      "Downloading joblib-1.5.2-py3-none-any.whl (308 kB)\n",
      "Using cached threadpoolctl-3.6.0-py3-none-any.whl (18 kB)\n",
      "Installing collected packages: threadpoolctl, joblib, scikit-learn\n",
      "Successfully installed joblib-1.5.2 scikit-learn-1.7.1 threadpoolctl-3.6.0\n"
     ]
    }
   ],
   "source": [
    "!pip install scikit-learn\n",
    "\n",
    "import numpy as np\n",
    "import pandas as pd\n",
    "import matplotlib.pyplot as plt\n",
    "from sklearn.preprocessing import MinMaxScaler\n",
    "from keras.models import Sequential\n",
    "from keras.layers import Dense, SimpleRNN\n",
    "from sklearn.model_selection import train_test_split"
   ]
  },
  {
   "cell_type": "code",
   "execution_count": 5,
   "id": "0ae64d3d",
   "metadata": {},
   "outputs": [],
   "source": [
    "dataframe = pd.read_csv('C:/Users/yashr/OneDrive/Desktop/DeepLearning/TSLA.csv')  # Ensure the dataset has 'Date' and 'Close' columns\n",
    "dataframe['Date'] = pd.to_datetime(dataframe['Date'])\n",
    "dataframe.set_index('Date', inplace=True)"
   ]
  },
  {
   "cell_type": "code",
   "execution_count": 6,
   "id": "4f6ec5eb",
   "metadata": {},
   "outputs": [],
   "source": [
    "closing_prices = dataframe[['Close']].values\n",
    "scaler_obj = MinMaxScaler(feature_range=(0, 1))\n",
    "normalized_data = scaler_obj.fit_transform(closing_prices)"
   ]
  },
  {
   "cell_type": "code",
   "execution_count": 7,
   "id": "e6f0e7a1",
   "metadata": {},
   "outputs": [],
   "source": [
    "def generate_sequences(data, seq_len):\n",
    "    X_seq, y_seq = [], []\n",
    "    for idx in range(len(data) - seq_len):\n",
    "        X_seq.append(data[idx:idx + seq_len])\n",
    "        y_seq.append(data[idx + seq_len])\n",
    "    return np.array(X_seq), np.array(y_seq)\n",
    "\n",
    "sequence_len = 60  # You can modify the sequence length as needed\n",
    "X_features, y_labels = generate_sequences(normalized_data, sequence_len)"
   ]
  },
  {
   "cell_type": "code",
   "execution_count": 8,
   "id": "10d887e2",
   "metadata": {},
   "outputs": [],
   "source": [
    "train_test_split_idx = int(len(X_features) * 0.8)\n",
    "X_train_data, y_train_data = X_features[:train_test_split_idx], y_labels[:train_test_split_idx]\n",
    "X_test_data, y_test_data = X_features[train_test_split_idx:], y_labels[train_test_split_idx:]"
   ]
  },
  {
   "cell_type": "code",
   "execution_count": 9,
   "id": "3ca032aa",
   "metadata": {},
   "outputs": [
    {
     "name": "stderr",
     "output_type": "stream",
     "text": [
      "e:\\Machine Learning\\venv\\lib\\site-packages\\keras\\src\\layers\\rnn\\rnn.py:199: UserWarning: Do not pass an `input_shape`/`input_dim` argument to a layer. When using Sequential models, prefer using an `Input(shape)` object as the first layer in the model instead.\n",
      "  super().__init__(**kwargs)\n"
     ]
    }
   ],
   "source": [
    "rnn_model = Sequential()\n",
    "rnn_model.add(SimpleRNN(units=50, activation='relu', input_shape=(sequence_len, 1)))\n",
    "rnn_model.add(Dense(1))  # Output layer for predicting the stock price\n",
    "\n",
    "rnn_model.compile(optimizer='adam', loss='mean_squared_error')"
   ]
  },
  {
   "cell_type": "code",
   "execution_count": 10,
   "id": "6c2e25a4",
   "metadata": {},
   "outputs": [
    {
     "name": "stdout",
     "output_type": "stream",
     "text": [
      "Epoch 1/10\n",
      "\u001b[1m73/73\u001b[0m \u001b[32m━━━━━━━━━━━━━━━━━━━━\u001b[0m\u001b[37m\u001b[0m \u001b[1m2s\u001b[0m 9ms/step - loss: 2.2543e-04 - val_loss: 0.0753\n",
      "Epoch 2/10\n",
      "\u001b[1m73/73\u001b[0m \u001b[32m━━━━━━━━━━━━━━━━━━━━\u001b[0m\u001b[37m\u001b[0m \u001b[1m0s\u001b[0m 6ms/step - loss: 1.9061e-06 - val_loss: 0.0734\n",
      "Epoch 3/10\n",
      "\u001b[1m73/73\u001b[0m \u001b[32m━━━━━━━━━━━━━━━━━━━━\u001b[0m\u001b[37m\u001b[0m \u001b[1m0s\u001b[0m 5ms/step - loss: 1.4817e-06 - val_loss: 0.0712\n",
      "Epoch 4/10\n",
      "\u001b[1m73/73\u001b[0m \u001b[32m━━━━━━━━━━━━━━━━━━━━\u001b[0m\u001b[37m\u001b[0m \u001b[1m0s\u001b[0m 6ms/step - loss: 1.4517e-06 - val_loss: 0.0706\n",
      "Epoch 5/10\n",
      "\u001b[1m73/73\u001b[0m \u001b[32m━━━━━━━━━━━━━━━━━━━━\u001b[0m\u001b[37m\u001b[0m \u001b[1m0s\u001b[0m 6ms/step - loss: 1.6078e-06 - val_loss: 0.0697\n",
      "Epoch 6/10\n",
      "\u001b[1m73/73\u001b[0m \u001b[32m━━━━━━━━━━━━━━━━━━━━\u001b[0m\u001b[37m\u001b[0m \u001b[1m0s\u001b[0m 6ms/step - loss: 1.3881e-06 - val_loss: 0.0683\n",
      "Epoch 7/10\n",
      "\u001b[1m73/73\u001b[0m \u001b[32m━━━━━━━━━━━━━━━━━━━━\u001b[0m\u001b[37m\u001b[0m \u001b[1m0s\u001b[0m 5ms/step - loss: 1.5541e-06 - val_loss: 0.0681\n",
      "Epoch 8/10\n",
      "\u001b[1m73/73\u001b[0m \u001b[32m━━━━━━━━━━━━━━━━━━━━\u001b[0m\u001b[37m\u001b[0m \u001b[1m0s\u001b[0m 6ms/step - loss: 1.4261e-06 - val_loss: 0.0661\n",
      "Epoch 9/10\n",
      "\u001b[1m73/73\u001b[0m \u001b[32m━━━━━━━━━━━━━━━━━━━━\u001b[0m\u001b[37m\u001b[0m \u001b[1m0s\u001b[0m 6ms/step - loss: 1.7371e-06 - val_loss: 0.0650\n",
      "Epoch 10/10\n",
      "\u001b[1m73/73\u001b[0m \u001b[32m━━━━━━━━━━━━━━━━━━━━\u001b[0m\u001b[37m\u001b[0m \u001b[1m1s\u001b[0m 7ms/step - loss: 1.4623e-06 - val_loss: 0.0646\n"
     ]
    }
   ],
   "source": [
    "training_history = rnn_model.fit(X_train_data, y_train_data, epochs=10, batch_size=32, validation_data=(X_test_data, y_test_data))"
   ]
  },
  {
   "cell_type": "code",
   "execution_count": 11,
   "id": "0d6cac3a",
   "metadata": {},
   "outputs": [
    {
     "name": "stdout",
     "output_type": "stream",
     "text": [
      "\u001b[1m1/1\u001b[0m \u001b[32m━━━━━━━━━━━━━━━━━━━━\u001b[0m\u001b[37m\u001b[0m \u001b[1m0s\u001b[0m 130ms/step\n",
      "\u001b[1m1/1\u001b[0m \u001b[32m━━━━━━━━━━━━━━━━━━━━\u001b[0m\u001b[37m\u001b[0m \u001b[1m0s\u001b[0m 39ms/step\n",
      "\u001b[1m1/1\u001b[0m \u001b[32m━━━━━━━━━━━━━━━━━━━━\u001b[0m\u001b[37m\u001b[0m \u001b[1m0s\u001b[0m 29ms/step\n",
      "\u001b[1m1/1\u001b[0m \u001b[32m━━━━━━━━━━━━━━━━━━━━\u001b[0m\u001b[37m\u001b[0m \u001b[1m0s\u001b[0m 34ms/step\n",
      "\u001b[1m1/1\u001b[0m \u001b[32m━━━━━━━━━━━━━━━━━━━━\u001b[0m\u001b[37m\u001b[0m \u001b[1m0s\u001b[0m 29ms/step\n",
      "\u001b[1m1/1\u001b[0m \u001b[32m━━━━━━━━━━━━━━━━━━━━\u001b[0m\u001b[37m\u001b[0m \u001b[1m0s\u001b[0m 27ms/step\n",
      "\u001b[1m1/1\u001b[0m \u001b[32m━━━━━━━━━━━━━━━━━━━━\u001b[0m\u001b[37m\u001b[0m \u001b[1m0s\u001b[0m 32ms/step\n",
      "\u001b[1m1/1\u001b[0m \u001b[32m━━━━━━━━━━━━━━━━━━━━\u001b[0m\u001b[37m\u001b[0m \u001b[1m0s\u001b[0m 30ms/step\n",
      "\u001b[1m1/1\u001b[0m \u001b[32m━━━━━━━━━━━━━━━━━━━━\u001b[0m\u001b[37m\u001b[0m \u001b[1m0s\u001b[0m 27ms/step\n",
      "\u001b[1m1/1\u001b[0m \u001b[32m━━━━━━━━━━━━━━━━━━━━\u001b[0m\u001b[37m\u001b[0m \u001b[1m0s\u001b[0m 31ms/step\n",
      "\u001b[1m1/1\u001b[0m \u001b[32m━━━━━━━━━━━━━━━━━━━━\u001b[0m\u001b[37m\u001b[0m \u001b[1m0s\u001b[0m 29ms/step\n",
      "\u001b[1m1/1\u001b[0m \u001b[32m━━━━━━━━━━━━━━━━━━━━\u001b[0m\u001b[37m\u001b[0m \u001b[1m0s\u001b[0m 29ms/step\n",
      "\u001b[1m1/1\u001b[0m \u001b[32m━━━━━━━━━━━━━━━━━━━━\u001b[0m\u001b[37m\u001b[0m \u001b[1m0s\u001b[0m 27ms/step\n",
      "\u001b[1m1/1\u001b[0m \u001b[32m━━━━━━━━━━━━━━━━━━━━\u001b[0m\u001b[37m\u001b[0m \u001b[1m0s\u001b[0m 28ms/step\n",
      "\u001b[1m1/1\u001b[0m \u001b[32m━━━━━━━━━━━━━━━━━━━━\u001b[0m\u001b[37m\u001b[0m \u001b[1m0s\u001b[0m 28ms/step\n",
      "\u001b[1m1/1\u001b[0m \u001b[32m━━━━━━━━━━━━━━━━━━━━\u001b[0m\u001b[37m\u001b[0m \u001b[1m0s\u001b[0m 30ms/step\n",
      "\u001b[1m1/1\u001b[0m \u001b[32m━━━━━━━━━━━━━━━━━━━━\u001b[0m\u001b[37m\u001b[0m \u001b[1m0s\u001b[0m 28ms/step\n",
      "\u001b[1m1/1\u001b[0m \u001b[32m━━━━━━━━━━━━━━━━━━━━\u001b[0m\u001b[37m\u001b[0m \u001b[1m0s\u001b[0m 29ms/step\n",
      "\u001b[1m1/1\u001b[0m \u001b[32m━━━━━━━━━━━━━━━━━━━━\u001b[0m\u001b[37m\u001b[0m \u001b[1m0s\u001b[0m 29ms/step\n",
      "\u001b[1m1/1\u001b[0m \u001b[32m━━━━━━━━━━━━━━━━━━━━\u001b[0m\u001b[37m\u001b[0m \u001b[1m0s\u001b[0m 30ms/step\n"
     ]
    }
   ],
   "source": [
    "future_predictions = []\n",
    "recent_sequence = normalized_data[train_test_split_idx - sequence_len:train_test_split_idx]\n",
    "\n",
    "for _ in range(20):  # Predict for the next 20 days\n",
    "    recent_sequence = np.reshape(recent_sequence, (1, sequence_len, 1))  # Ensure correct shape for RNN\n",
    "    predicted_price = rnn_model.predict(recent_sequence)\n",
    "\n",
    "    future_predictions.append(predicted_price[0][0])  # Store predicted price\n",
    "\n",
    "    # Reshape predicted price and append it to the sequence\n",
    "    predicted_price = np.reshape(predicted_price, (1, 1, 1))\n",
    "    recent_sequence = np.append(recent_sequence[:, 1:, :], predicted_price, axis=1)"
   ]
  },
  {
   "cell_type": "code",
   "execution_count": 12,
   "id": "97d2e03a",
   "metadata": {},
   "outputs": [],
   "source": [
    "predicted_future_prices = scaler_obj.inverse_transform(np.array(future_predictions).reshape(-1, 1))"
   ]
  },
  {
   "cell_type": "code",
   "execution_count": 13,
   "id": "921b1b1e",
   "metadata": {},
   "outputs": [],
   "source": [
    "actual_future_prices = scaler_obj.inverse_transform(normalized_data[train_test_split_idx:train_test_split_idx+20])"
   ]
  },
  {
   "cell_type": "code",
   "execution_count": 14,
   "id": "e35199fd",
   "metadata": {},
   "outputs": [
    {
     "data": {
      "image/png": "[encoded data removed]",
      "text/plain": [
       "<Figure size 640x480 with 1 Axes>"
      ]
     },
     "metadata": {},
     "output_type": "display_data"
    }
   ],
   "source": [
    "plt.plot(dataframe.index[train_test_split_idx:train_test_split_idx+20], actual_future_prices, label='Actual Prices')\n",
    "plt.plot(dataframe.index[train_test_split_idx:train_test_split_idx+20], predicted_future_prices, label='Predicted Prices')\n",
    "plt.title('Actual vs Predicted Stock Prices for the Next 20 Days')\n",
    "plt.xlabel('Date')\n",
    "plt.ylabel('Stock Price')\n",
    "plt.legend()\n",
    "plt.show()"
   ]
  },
  {
   "cell_type": "code",
   "execution_count": 15,
   "id": "b1553ed1",
   "metadata": {},
   "outputs": [
    {
     "name": "stdout",
     "output_type": "stream",
     "text": [
      "Day 1: Actual: 49.41999799999999, Predicted: 46.20772171020508\n",
      "Day 2: Actual: 49.17400000000001, Predicted: 45.94929504394531\n",
      "Day 3: Actual: 49.040001, Predicted: 45.73096466064453\n",
      "Day 4: Actual: 48.562, Predicted: 45.4123420715332\n",
      "Day 5: Actual: 48.958, Predicted: 45.08803176879883\n",
      "Day 6: Actual: 48.698001999999995, Predicted: 44.77333068847656\n",
      "Day 7: Actual: 49.32, Predicted: 44.45419692993164\n",
      "Day 8: Actual: 48.124001, Predicted: 44.14778518676758\n",
      "Day 9: Actual: 48.245998, Predicted: 43.83405685424805\n",
      "Day 10: Actual: 44.641998, Predicted: 43.52634811401367\n",
      "Day 11: Actual: 45.740002, Predicted: 43.21685791015625\n",
      "Day 12: Actual: 48.512001, Predicted: 42.90950012207031\n",
      "Day 13: Actual: 48.425999, Predicted: 42.600284576416016\n",
      "Day 14: Actual: 48.17399999999999, Predicted: 42.291629791259766\n",
      "Day 15: Actual: 48.938, Predicted: 41.98176193237305\n",
      "Day 16: Actual: 48.625999, Predicted: 41.67151641845703\n",
      "Day 17: Actual: 46.605999, Predicted: 41.360679626464844\n",
      "Day 18: Actual: 46.285999, Predicted: 41.049190521240234\n",
      "Day 19: Actual: 47.543999, Predicted: 40.737159729003906\n",
      "Day 20: Actual: 48.009998, Predicted: 40.42451858520508\n"
     ]
    }
   ],
   "source": [
    "for day in range(20):\n",
    "    print(f\"Day {day+1}: Actual: {actual_future_prices[day][0]}, Predicted: {predicted_future_prices[day][0]}\")"
   ]
  }
 ],
 "metadata": {
  "kernelspec": {
   "display_name": "Python 3",
   "language": "python",
   "name": "python3"
  },
  "language_info": {
   "codemirror_mode": {
    "name": "ipython",
    "version": 3
   },
   "file_extension": ".py",
   "mimetype": "text/x-python",
   "name": "python",
   "nbconvert_exporter": "python",
   "pygments_lexer": "ipython3",
   "version": "3.10.0"
  }
 },
 "nbformat": 4,
 "nbformat_minor": 5
}
